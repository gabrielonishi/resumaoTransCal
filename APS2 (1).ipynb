{
 "cells": [
  {
   "cell_type": "markdown",
   "metadata": {},
   "source": [
    "# APS 2 - Aplicação de Método de Diferenças Finitas"
   ]
  },
  {
   "cell_type": "markdown",
   "metadata": {},
   "source": [
    "Bibliotecas Utilizadas"
   ]
  },
  {
   "cell_type": "code",
   "execution_count": 1,
   "metadata": {},
   "outputs": [],
   "source": [
    "from math import *\n",
    "import numpy as np\n",
    "import matplotlib.pyplot as plt"
   ]
  },
  {
   "cell_type": "markdown",
   "metadata": {},
   "source": [
    "Dados retirados do enunciado"
   ]
  },
  {
   "cell_type": "code",
   "execution_count": 2,
   "metadata": {},
   "outputs": [],
   "source": [
    "t = 550 #6                                        # tempo [s]\n",
    "L = 0.3                                      # compriemnto [m]\n",
    "delta_x = 0.01*2                               # distancia entre os pontos no comprimento \n",
    "#delta_t = 0.001\n",
    "ro = 2700                                    # densidade [kg/m^3]\n",
    "k = 180                                      # condutividade termica [W/mK]\n",
    "cp = 896                                     # calor específico [J/kgK]\n",
    "alpha = k / (cp * ro)                        # alpha [cm^2/s]\n",
    "T_base = 100                                 # temperatura na extremidade x = 0\n",
    "T_L = 25                                     # temperatura na extremidade x = L\n",
    "T_inf = 50                                   # temperatura ambiente\n",
    "h = 50                                       # coef. de transferencia de calor por convecção [W/m^2K]\n",
    "D = 5e-3                                     # diametro da aleta[m]\n",
    "r = D/2                                      # raio da aleta [m]\n",
    "P = 2 * pi * r                               # perimetro\n",
    "Atr = pi * r**2                              # área secção trasnversal \n",
    "#passos_tempo = int(t/delta_t)+1\n",
    "passos_comprimento = int((L / delta_x))      # quantas vezes precisamos calcular o for do comprimento\n",
    "tol = 1e-10                                  # tolerancia"
   ]
  },
  {
   "cell_type": "code",
   "execution_count": 3,
   "metadata": {},
   "outputs": [
    {
     "name": "stdout",
     "output_type": "stream",
     "text": [
      "2.3162553191489357\n",
      "238\n"
     ]
    }
   ],
   "source": [
    "const = (h * P) /  (k * Atr)                                          # h * P / k * Atr\n",
    "cond = ((delta_x **2)/(alpha*(((h*P*(delta_x**2))/(k*Atr)) + 2))) * 0.9   # condição de estabilidade\n",
    "delta_t = cond\n",
    "\n",
    "passos_tempo = int(t/delta_t)+1\n",
    "\n",
    "print(cond)\n",
    "print(passos_tempo)"
   ]
  },
  {
   "cell_type": "markdown",
   "metadata": {},
   "source": [
    "Condições de Controno"
   ]
  },
  {
   "cell_type": "code",
   "execution_count": 4,
   "metadata": {},
   "outputs": [],
   "source": [
    "nn = int(L/delta_x)+1                        # número de nós\n",
    "T_matriz = np.zeros((passos_tempo,nn))       # preenchendo matriz de temperatura\n",
    "T_matriz[0:, 1:nn-1] = 50.0                   # condição inicial nos nós internos (em float)\n",
    "T_matriz[:,0] = T_base                       # temperatura fixa na base\n",
    "T_matriz[:,nn-1] = T_L                       # temperatura fixa na extremidade"
   ]
  },
  {
   "cell_type": "code",
   "execution_count": 5,
   "metadata": {},
   "outputs": [
    {
     "name": "stdout",
     "output_type": "stream",
     "text": [
      "alpha = 7.440476190476191e-05\n",
      "16\n",
      "passo tempo = 238\n",
      "passo comp = 15\n"
     ]
    }
   ],
   "source": [
    "print(f\"alpha = {alpha}\")\n",
    "print(nn)\n",
    "print(f\"passo tempo = {passos_tempo}\")\n",
    "print(f\"passo comp = {passos_comprimento}\")"
   ]
  },
  {
   "cell_type": "markdown",
   "metadata": {},
   "source": [
    "1. [4,0 pontos] Aplique os conceitos do método de diferenças finitas na equação diferencial do problema para definir uma equação de diferença algébrica associada aos nós da aleta. Considere para a segunda derivada da temperatura no espaço uma equação de diferença finita centrada e para a primeira derivada no tempo da temperatura uma equação de diferença progressiva. Apresente o desenvolvimento das equações."
   ]
  },
  {
   "cell_type": "markdown",
   "metadata": {},
   "source": [
    "<div justify-content=\"center\">$\\frac{d^2T}{dx^2} - \\frac{hP}{ \\kappa A_{tr}}(T - T_\\infty) = \\frac{1}{\\alpha}.\\frac{dT}{dt}$</div>"
   ]
  },
  {
   "cell_type": "markdown",
   "metadata": {},
   "source": [
    "$\\frac{d^2T}{dx^2}   \\approx \\frac{T_{i+1} - 2T_i + T_{i-1}}{ \\Delta x^2}$"
   ]
  },
  {
   "cell_type": "markdown",
   "metadata": {},
   "source": [
    "$\\frac{dT}{dt} \\approx  \\frac{T_i^{l+1}-T_i^l}{\\Delta t}$"
   ]
  },
  {
   "cell_type": "markdown",
   "metadata": {},
   "source": [
    "$\\frac{T_{i+1} - 2T_i + T_{i-1}}{ \\Delta x^2} - \\frac{hP}{ \\kappa A_{tr}}(T - T_\\infty) = \\frac{1}{\\alpha}.\\frac{T_i^{l+1}-T_i^l}{\\Delta t}$"
   ]
  },
  {
   "cell_type": "markdown",
   "metadata": {},
   "source": [
    "$T_i^{l+1} = [\\frac{T_{i+1} - 2T_i + T_{i-1}}{ \\Delta x^2} - \\frac{hP}{ \\kappa A_{tr}}(T - T_\\infty)] .[\\alpha . \\Delta t]+T_i^l$"
   ]
  },
  {
   "cell_type": "markdown",
   "metadata": {},
   "source": [
    "2. [4,0 pontos] Apresente um gráfico (𝑻𝒆𝒎𝒑𝒆𝒓𝒂𝒕𝒖𝒓𝒂 × 𝒑𝒐𝒔𝒊çã𝐨) com o resultado numérico após obter o regime permanente. Use uma tolerância de 𝑡𝑜𝑙 = 1 ∙ 10ିଵ଴. Considere que a aleta, de comprimento 𝐿 = 300𝑚𝑚 , densidade de 2700 𝑘𝑔/𝑚³, condutividade térmica de 180 𝑊/(𝑚𝐾) e calor específico 896 𝐽/(𝑘𝑔𝐾) , tem a temperatura especificada na extremidade de 𝑇(𝐿) = 25℃. A aleta está em contato com uma base a 𝑇௕ = 100℃ em um ambiente a 𝑇ஶ= 50℃ e ℎ = 50𝑊/𝑚ଶ𝐾."
   ]
  },
  {
   "cell_type": "code",
   "execution_count": 6,
   "metadata": {},
   "outputs": [
    {
     "name": "stdout",
     "output_type": "stream",
     "text": [
      "[[100.  50.  50. ...  50.  50.  25.]\n",
      " [100.  50.  50. ...  50.  50.  25.]\n",
      " [100.  50.  50. ...  50.  50.  25.]\n",
      " ...\n",
      " [100.  50.  50. ...  50.  50.  25.]\n",
      " [100.  50.  50. ...  50.  50.  25.]\n",
      " [100.  50.  50. ...  50.  50.  25.]]\n"
     ]
    }
   ],
   "source": [
    "print(T_matriz)"
   ]
  },
  {
   "cell_type": "code",
   "execution_count": 10,
   "metadata": {
    "scrolled": false
   },
   "outputs": [
    {
     "name": "stdout",
     "output_type": "stream",
     "text": [
      "0 1\n",
      "conta = 71.54255319148936\n",
      "0 2\n",
      "conta = 50.0\n",
      "0 3\n",
      "conta = 50.0\n",
      "0 4\n",
      "conta = 50.0\n",
      "0 5\n",
      "conta = 50.0\n",
      "0 6\n",
      "conta = 50.0\n",
      "0 7\n",
      "conta = 50.0\n",
      "0 8\n",
      "conta = 50.0\n",
      "0 9\n",
      "conta = 50.0\n",
      "0 10\n",
      "conta = 50.0\n",
      "0 11\n",
      "conta = 50.0\n",
      "0 12\n",
      "conta = 50.0\n",
      "0 13\n",
      "conta = 50.0\n",
      "0 14\n",
      "conta = 39.22872340425532\n",
      "Convergiu! 2.3162553191489357s\n"
     ]
    },
    {
     "data": {
      "text/plain": [
       "array([[100.        ,  50.        ,  50.        , ...,  50.        ,\n",
       "         50.        ,  25.        ],\n",
       "       [100.        ,  71.54255319,  50.        , ...,  50.        ,\n",
       "         39.2287234 ,  25.        ],\n",
       "       [100.        ,  73.69680851,  59.28163196, ...,  45.35918402,\n",
       "         38.15159574,  25.        ],\n",
       "       ...,\n",
       "       [100.        ,  86.97127741,  77.22889074, ...,  36.9339926 ,\n",
       "         31.77691128,  25.        ],\n",
       "       [100.        ,  86.97127748,  77.22889086, ...,  36.93399272,\n",
       "         31.77691134,  25.        ],\n",
       "       [100.        ,  86.97127753,  77.22889098, ...,  36.93399283,\n",
       "         31.7769114 ,  25.        ]])"
      ]
     },
     "execution_count": 10,
     "metadata": {},
     "output_type": "execute_result"
    }
   ],
   "source": [
    "if(delta_t <= cond):\n",
    "#Loop que depende do tempo total / delta_t\n",
    "    for l in np.arange(0, passos_tempo, 1):\n",
    "        \n",
    "        #Loop para só alterar as temperaturas do meio\n",
    "        for i in np.arange(1, passos_comprimento, 1):\n",
    "            #conta = ((((T_matriz[l][i+1] - (2 * T_matriz[l][i]) + T_matriz[l][i-1])/(delta_x**2)) - \n",
    "            #(const * (T_matriz[l][i] - T_inf))) * (alpha*delta_t) + T_matriz[l][i])\n",
    "            \n",
    "            x = T_matriz[l][i] + (alpha*delta_t*((T_matriz[l][i+1] - 2*T_matriz[l][i]+ T_matriz[l][i-1])/delta_x**2))\n",
    "            y = alpha*delta_t*(((h*P)*(T_matriz[l][i] - T_inf))/(k*Atr))\n",
    "            \n",
    "            print(l, i)\n",
    "            print(f\"conta = {x-y}\")\n",
    "            T_matriz[l+1][i] = x-y\n",
    "            \n",
    "            \n",
    "            #print(f\"conta = {conta}\")\n",
    "            #T_matriz[l+1][i] = conta\n",
    "            #print(f\"conta={conta}\")\n",
    "\n",
    "        #print(T_matriz[l+1][:])\n",
    "\n",
    "        erro = np.amax(abs((T_matriz[l+1][nn-1]-T_matriz[l][nn-1])/T_matriz[l+1][nn-1]))\n",
    "        if tol >=erro:\n",
    "            print(f'Convergiu! {(l + 1)*delta_t}s')\n",
    "            break\n",
    "else:\n",
    "    print(\"Erro! Valor de dt muito elevado\")\n",
    "\n",
    "T_matriz"
   ]
  },
  {
   "cell_type": "markdown",
   "metadata": {},
   "source": [
    "Plotando Gráfico"
   ]
  },
  {
   "cell_type": "code",
   "execution_count": 14,
   "metadata": {},
   "outputs": [
    {
     "data": {
      "image/png": "[encoded data removed]",
      "text/plain": [
       "<Figure size 432x288 with 1 Axes>"
      ]
     },
     "metadata": {
      "needs_background": "light"
     },
     "output_type": "display_data"
    }
   ],
   "source": [
    "lista_posicao = []\n",
    "# Fazendo o valor dos pontos em cm\n",
    "for x in np.arange(0, nn, 1):\n",
    "    lista_posicao.append(x)\n",
    "\n",
    "#Lista para pegar as temperaturas no temo 3, 6 e 9\n",
    "ultimo = len(T_matriz)\n",
    "\n",
    "#Valores de temperatura após 3s \n",
    "plt.plot(lista_posicao, T_matriz[ultimo - 1], color=\"red\")\n",
    "\n",
    "plt.title(\"Dif. Finitas\")\n",
    "plt.xlabel(\"x [cm]\")\n",
    "plt.ylabel(\"Temperatura na barra [°C]\")\n",
    "plt.grid()\n",
    "#plt.legend()\n",
    "plt.show()"
   ]
  },
  {
   "cell_type": "markdown",
   "metadata": {},
   "source": [
    "3. [2,0 pontos] Apresente um gráfico (𝑻𝒆𝒎𝒑𝒆𝒓𝒂𝒕𝒖𝒓𝒂 × 𝒑𝒐𝒔𝒊çã𝒐) com o resultado analítico. Compare o resultado do item 2 com o obtido para o comportamento analítico da temperatura na aleta. Use as mesmas condições definidas no item 2. "
   ]
  },
  {
   "cell_type": "markdown",
   "metadata": {},
   "source": [
    "Caso C - Temperatura especificada\n",
    "\n",
    "$\\frac{\\theta}{\\theta_b} = \\frac{\\frac{\\theta_L}{\\theta_b} senh(mx) + senh [m(L-x)]}{senh (mL)}$\n",
    "\n",
    "\n",
    "$\\theta  \\equiv T-T_ \\infty $\n",
    "\n",
    "\n",
    "$ \\theta_b = T_b - T_ \\infty $\n",
    "\n",
    "\n",
    "$ m^2  \\equiv  \\frac{hP}{kA_{tr}} $"
   ]
  },
  {
   "cell_type": "code",
   "execution_count": 43,
   "metadata": {},
   "outputs": [
    {
     "name": "stdout",
     "output_type": "stream",
     "text": [
      "-0.5\n",
      "100.0\n",
      "-870237.5346796616\n",
      "-2592642613739.2324\n",
      "-7.723649316865883e+18\n",
      "-2.3009248730481842e+25\n",
      "-6.854603380102863e+31\n",
      "-2.0420304916897347e+38\n",
      "-6.083340344818175e+44\n",
      "-1.8122662664194367e+51\n",
      "-5.398857920549325e+57\n",
      "-1.6083545440519594e+64\n",
      "-4.79139176737102e+70\n",
      "-1.4273864648396292e+77\n",
      "-4.2522762047597857e+83\n",
      "-1.2667804667461478e+90\n",
      "-3.773820593152641e+96\n"
     ]
    }
   ],
   "source": [
    "m = sqrt((h * P) / (k * Atr))\n",
    "theta_l = T_L - T_inf\n",
    "theta_b = T_base - T_inf\n",
    "lista_T = []\n",
    "c = theta_l / theta_b\n",
    "\n",
    "\n",
    "\n",
    "for x in np.arange(0, passos_comprimento + 1, 1):\n",
    "    num = (c * sinh(m * x)) + sinh(m*(L - x))\n",
    "    den = sinh(m*L)\n",
    "    \n",
    "    \n",
    "    #theta = T - T_inf\n",
    "    T = ((num/den)*theta_b) + T_inf\n",
    "    print(T)\n",
    "    lista_T.append(T)\n",
    "\n",
    "#print(sinh(m * L))\n",
    "#print(sinh(m*(L - L)))\n",
    "\n",
    "#print(lista_T)"
   ]
  },
  {
   "cell_type": "code",
   "execution_count": 35,
   "metadata": {},
   "outputs": [
    {
     "data": {
      "image/png": "[encoded data removed]",
      "text/plain": [
       "<Figure size 432x288 with 1 Axes>"
      ]
     },
     "metadata": {
      "needs_background": "light"
     },
     "output_type": "display_data"
    }
   ],
   "source": [
    "#Valores de temperatura após 3s \n",
    "plt.plot(lista_posicao, lista_T, color=\"red\")\n",
    "\n",
    "plt.title(\"Dif. Finitas\")\n",
    "plt.xlabel(\"x [cm]\")\n",
    "plt.ylabel(\"Temperatura na barra [°C]\")\n",
    "plt.grid()\n",
    "#plt.legend()\n",
    "plt.show()"
   ]
  },
  {
   "cell_type": "code",
   "execution_count": null,
   "metadata": {},
   "outputs": [],
   "source": []
  }
 ],
 "metadata": {
  "kernelspec": {
   "display_name": "Python 3",
   "language": "python",
   "name": "python3"
  },
  "language_info": {
   "codemirror_mode": {
    "name": "ipython",
    "version": 3
   },
   "file_extension": ".py",
   "mimetype": "text/x-python",
   "name": "python",
   "nbconvert_exporter": "python",
   "pygments_lexer": "ipython3",
   "version": "3.8.5"
  }
 },
 "nbformat": 4,
 "nbformat_minor": 4
}
