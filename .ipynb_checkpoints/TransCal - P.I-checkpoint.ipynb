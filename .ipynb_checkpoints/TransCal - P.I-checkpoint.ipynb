{
 "cells": [
  {
   "cell_type": "markdown",
   "id": "108e023f",
   "metadata": {},
   "source": [
    "# Transferência de Calor - P.I\n",
    "\n",
    "Feito para os cria do 5° semestre de Comp. <br>\n",
    "Se passar na PI usando isso daqui me paga uma breja dps s2\n",
    "\n",
    "## Conteúdos\n",
    "\n",
    " * [Coleção de Símbolos](#colecao)\n",
    " * [Atalho p/ Declarações no Python](#1)\n",
    " * [Aula 04 - Equações de Taxa](#2)\n",
    " * [Aula 05 - Equação geral da condução. Parede plana](#3)\n",
    " * [Aula 06 - Aletas](#4)\n",
    " * [Aula 07 - Métodos numéricos em condução de calor unidimensional](#5)\n",
    " * [Aula 08 - Instabilidade e convergência do método explícito](#6)\n",
    " * [Aula 09 - Métodos numéricos em condução de calor. Aplicações em domínios bidimensionais.](#9)\n",
    " * [Aula 10 - Distribuição de temperatura em uma placa aquecida com condições de isolamento na borda.](#10)\n",
    " ---"
   ]
  },
  {
   "cell_type": "markdown",
   "id": "f5e6411d",
   "metadata": {},
   "source": [
    "# Coleção de Símbolos <a name=\"colecao\"></a>\n",
    "\n",
    "### Taxa e Fluxo\n",
    " * $q$ - Taxa de Calor: Transferência de energia térmica ao longo do tempo $[W]$\n",
    " * $q''$ - Fluxo de Calor: Transferência de energia térmica ao longo do tempo por uma superfície$[\\frac{W}{m^2}]$ \n",
    " * $T_s$ - Temperatura da superfície $[K]$\n",
    " * $T_\\infty$- Temperatura do ambiente $[K]$\n",
    " * $L$ - Espessura da parede $[m]$\n",
    "\n",
    "### Condutividade\n",
    " * $\\kappa$ - Condutividade térmica $[\\frac{W}{m^2.K}]$\n",
    "\n",
    "### Convecção\n",
    " * $h$ - Coeficiente de transferência de calor por convecção $[\\frac{W}{m^2.K}]$\n",
    " \n",
    "### Irradiação\n",
    " * $\\varepsilon$ - Emissividade da superfície $[0\\leq \\varepsilon \\leq1]$ (adimensional)\n",
    " * $\\alpha$ - Absortividade $[0\\leq \\alpha \\leq1]$ (adimensional)\n",
    " * $\\sigma$ - Constante de Stefan-Boltzman $=5,67.10^{-8}[\\frac{W}{m^2.K^4}]$\n",
    " * $h_r$ - Coeficiente de transferência de calor por radiação, para fins de simplificação ($h_r = \\varepsilon\\sigma(T_s + T_\\infty)(T_s^2 + T_\\infty^2)$ ) $[\\frac{W}{m^2K}]$\n",
    " \n",
    "## Condução em Parede Plana\n",
    " * $\\dot q$ - Geração de energia térmica\n",
    " * $\\rho$ - Densidade $[\\frac{kg}{m^3}]$\n",
    " * $\\alpha$ - Difusidade térmica ($\\alpha = \\frac{\\kappa}{\\rho c_p}$) $[\\frac{m^2}{s}]$\n",
    "\n",
    "## Aletas\n",
    " * $\\theta$ - excesso de temperatura $[K]$\n",
    " * $h$ - Coeficiente de transferência de calor por convecção $[\\frac{W}{m^2.K}]$\n",
    " * $P$ - Perímetro da Aleta $[m]$\n",
    " * $A_{tr}$ - Área da seção transversal da aleta $[m^2]$\n",
    " * $\\epsilon_a$ - Efetividade\n",
    " * $\\eta$ - Eficiência \n",
    "___"
   ]
  },
  {
   "cell_type": "markdown",
   "id": "db71d1df",
   "metadata": {},
   "source": [
    "# Atalho p/ Declarações no Python <a name=\"1\"></a>"
   ]
  },
  {
   "cell_type": "code",
   "execution_count": null,
   "id": "a95a0b95",
   "metadata": {},
   "outputs": [],
   "source": []
  },
  {
   "cell_type": "markdown",
   "id": "6e7a2108",
   "metadata": {},
   "source": [
    "# Aula 04 - Equações de Taxa <a name=\"2\"></a>\n",
    "\n",
    "## Taxa de Calor e Fluxo de Calor\n",
    "\n",
    "$q = q''.A$\n",
    "\n",
    " * $q$ - Taxa de Calor: Transferência de energia térmica ao longo do tempo $[W]$\n",
    " * $q''$ - Fluxo de Calor: Transferência de energia térmica ao longo do tempo por uma superfície$[\\frac{W}{m^2}]$ \n",
    "\n",
    "## Condução - Lei de Fourier\n",
    "$q_{cond}'' = -\\kappa.\\frac{dT}{dx}=-k.\\frac{T1-T2}{L} $\n",
    " * $\\kappa$ - Condutividade térmica $[\\frac{W}{m^2.K}]$\n",
    " * $L$ - Espessura da parede\n",
    " \n",
    "## Convecção - Lei de Resfriamento de Newton\n",
    "$q_{conv}'' = h(T_s - T_\\infty)$ \n",
    " * $h$ - Coeficiente de transferência de calor por convecção $[\\frac{W}{m^2.K}]$\n",
    " \n",
    "## Irradiação\n",
    "\n",
    "### Emissão de Energia\n",
    "$E = \\varepsilon.\\sigma.T_s^4$\n",
    " * $E$ - Poder emissivo $[\\frac{W}{m^2}]$\n",
    " * $\\varepsilon$ - Emissividade da superfície $[0\\leq \\varepsilon \\leq1]$\n",
    " * $\\sigma$ - Constante de Stefan-Boltzman $=5,67.10^{-8}\\frac{W}{m^2.K^4}$\n",
    "\n",
    "### Absorção de Energia\n",
    "$G_{abs} = \\alpha G$\n",
    " * $G_{abs}$ - Taxa de Energia radiante absorvida\n",
    " * $\\alpha$ - Absortividade $[0\\leq \\alpha \\leq1]$\n",
    " * $G$ - Irradiação\n",
    "\n",
    "### Caso específico\n",
    "Superfície exposta a grande ambiente de temperatura uniforme\n",
    "$q_{rad}'' = \\varepsilon\\sigma(T_s^4 - T_\\infty^4)=h_r(T_s - T_\\infty)$\n",
    " * $h_r$ - Coeficiente de transferência de calor por radiação, para fins de simplificação\n",
    " * $h_r = \\varepsilon\\sigma(T_s + T_\\infty)(T_s^2 + T_\\infty^2)$\n",
    "\n",
    "## Conservação de Energia\n",
    "$\\dot E_{in} + \\dot E_{out} + \\dot E_g = \\dot E_a$\n",
    " * $\\dot E_{in}$ - Energia que entra no volume unitário $[J]$\n",
    " * $\\dot E_{out}$ - Energia que sai do volume unitário $[J]$\n",
    " * $\\dot E_{g}$ - Energia gerada no volume unitário $[J]$\n",
    " * $\\dot E_{in}$ - Energia acumulado no volume unitário $[J]$\n",
    " \n",
    " ___"
   ]
  },
  {
   "cell_type": "markdown",
   "id": "753c1728",
   "metadata": {},
   "source": [
    "# Aula 05 - Equação geral da condução. Parede plana <a name=\"3\"></a>\n",
    "\n",
    "## Equação da Difusão Térmica\n",
    "Baseada na aplicação da conservação de energia em um volume de controle diferencial. Válido quando só temos condução <br><br>\n",
    "$\\frac{\\partial}{\\partial x}(\\kappa \\frac{\\partial T}{\\partial x}) + \\frac{\\partial}{\\partial y}(\\kappa \\frac{\\partial T}{\\partial y}) + \\frac{\\partial}{\\partial z}(\\kappa \\frac{\\partial T}{\\partial z}) + \\dot q = \\rho c_p \\frac{\\partial T}{\\partial t}$\n",
    " * $\\frac{\\partial}{\\partial x}(\\kappa \\frac{\\partial T}{\\partial x}) + \\frac{\\partial}{\\partial y}(\\kappa \\frac{\\partial T}{\\partial y}) + \\frac{\\partial}{\\partial z}(\\kappa \\frac{\\partial T}{\\partial z})$ - Transferência líquida de energia térmica\n",
    " * $\\dot q$ - Geração de energia térmica\n",
    " * $\\rho$ - Densidade\n",
    " * $\\rho c_p \\frac{\\partial T}{\\partial t}$- Mudança no arma}zenamento de energia térmica\n",
    "\n",
    "## Condução de Calor Unidimensional\n",
    "Condição 1D. P/ propriedades constantes. <br><br>\n",
    "$\\kappa\\frac{\\partial^2T}{\\partial x^2}+ \\dot q = \\rho c_p\\frac{\\partial T}{\\partial t}$\n",
    "\n",
    "Quando <b>não tem geração de energia</b>, podemos reescrever a equação como <br><br>\n",
    "$\\frac{\\partial^2T}{\\partial x^2} = \\frac{\\rho c_p}{\\kappa}\\frac{\\partial T}{\\partial t} = \\frac{1}{\\alpha}\\frac{\\partial T}{\\partial t}$\n",
    " * $\\alpha$ - difusidade térmica (relação entre capacidade de conduzir vs. de armazenar calor)\n",
    " * $\\alpha = \\frac{\\kappa}{\\rho c_p}$ $[\\frac{m^2}{s}]$\n",
    "___"
   ]
  },
  {
   "cell_type": "markdown",
   "id": "5dd1f5fd",
   "metadata": {},
   "source": [
    "# Aula 06 - Aletas <a name=\"4\"></a>\n",
    "\n",
    "## Equação da Aleta\n",
    "Baseado no balanço de energia em um elemento diferencial<br><br>\n",
    "$\\frac{d^2T}{dx^2} + (\\frac{1}{A_{tr}}\\frac{dA_{tr}}{dx})\\frac{dT}{dx} - \\frac{hP}{\\kappa A_{tr}}(T-T_\\infty) = 0$\n",
    "\n",
    "## Aleta com Seção Uniforme\n",
    "$\\frac{d^2T}{dx^2} - \\frac{hP}{\\kappa A_{tr}}(T-T_\\infty) = 0$\n",
    "assumindo $m^2 = \\frac{hP}{\\kappa A_{tr}}$ e $\\theta = (T-T_\\infty)$\n",
    "$\\frac{d^2\\theta}{dx^2} - m^2\\theta = 0 $\n",
    " * $\\theta$ - excesso de temperatura $[K]$\n",
    " * $A_{tr}$ - Área da seção transversal da aleta $[m^2]$\n",
    "\n",
    "### Solução da Equação de Aleta p/ Seção Uniforme\n",
    "$\\theta(x) = C_1e^{mx} + C_2e^{mx}$\n",
    "Depois de aplicar as condições de contorno à solução geral, determina-se $C_1$ e $C_2$\n",
    "$\\frac{\\theta}{\\theta_B} = \\frac{cosh(m(L-x)) + (\\frac{h}{mk}senh(m(L-x))}{cosh(mL)+(\\frac{h}{mk})senh(mL}$\n",
    " * $\\theta =(T - T_\\infty)$\n",
    " * $\\theta_B =(T_B - T_\\infty)$\n",
    " \n",
    "### Quantidade de Calor (taxa) transferida em toda a aleta\n",
    "$q_a = -\\kappa A_{tr} \\frac{d\\theta}{dx}_{\\mid x=0} = \\int_{Aa}h\\theta(x)dA_s$\n",
    " * $A_s$ - Área superficial de toda a aleta\n",
    "\n",
    "## Condições de Contorno\n",
    " * 1ª Condição de Contorno: base da aleta → $\\theta_b = \\theta(0) =(T_b - T_\\infty)$\n",
    " * 2ª Condição de Contorno: extremidade da aleta\n",
    "     * Convecção: $-\\frac{\\kappa d \\theta}{dx}_{\\mid x=L}=h\\theta(L)$ \n",
    "     * Adiabática: $\\frac{d\\theta}{dx}_{\\mid x=L} = 0$\n",
    "     * Temperatura Fixa: $\\theta(L) = \\theta_L$\n",
    "     * Aleta Infinita: $\\theta(L) = 0$\n",
    "\n",
    "## Resumo\n",
    " <img src=\"untitled.png\">\n",
    "\n",
    "## Desempenho de Superfícies Estendidas\n",
    "\n",
    "### Efetividade\n",
    "Relação entre a taxa de transferência de calor na aleta e a taxa de transferência de calor que existiria sem a presença da aleta. Uso de aletas é justificado quando $\\epsilon_a \\ge 2$    \n",
    "\n",
    "$\\epsilon_a = \\frac{q_a}{hA_b\\theta_b}$\n",
    "\n",
    "\n",
    "### Eficiência\n",
    "Relação entre a taxa de transferência de calor na aleta e a taxa de transferência de calor máxima que essa aleta poderia atingir, ou seja, se a aleta inteira estivesse na mesma temperatura da base.\n",
    "\n",
    "$\\eta_a = \\frac{q_a}{q_{MAX}} = \\frac{q_a}{hA_a\\theta_b}$  \n",
    "___"
   ]
  },
  {
   "cell_type": "markdown",
   "id": "8adeaf3b",
   "metadata": {},
   "source": [
    "# Aula 07 - Métodos numéricos em condução de calor unidimensional <a name=\"5\"></a>\n",
    "\n",
    "## Método das Diferenças Finitas\n",
    "Discretiza o gradiente de temperatura em pontos (nós)\n",
    "\n",
    "### Caso Unidimensional\n",
    "$\\kappa(\\frac{d^2T}{dx^2}) = \\rho c_p \\frac{dT}{dt}$ (descrito na Aula 05)\n",
    "Pode-se aproximar a segunda derivada no espaço utilizando a diferença finita centrada\n",
    "$\\frac{d^2T}{dx^2} \\approx \\frac{T_{i+1} - 2T_i + T_{i-1}}{\\Delta x^2}$\n",
    "Pode-se representar a primeira derivada no tempo através da diferença progressiva\n",
    "$\\frac{dT}{dt} \\approx \\frac{T_i^{l+1}-T_i^l}{\\Delta t}$\n",
    "Substituindo tudo, temos a seguinte fórmula:\n",
    "$T_i^{l+1} = T_i^l + (\\alpha \\frac{\\Delta t}{\\Delta x^2})(T_{i+1}^l - 2T_i^l+T_{i-1}^l)$\n",
    "___"
   ]
  },
  {
   "cell_type": "markdown",
   "id": "208321fb",
   "metadata": {},
   "source": [
    "# Aula 08 - Instabilidade e convergência do método explícito <a name=\"6\"></a>\n",
    "Convergência: Solução é próxima da verdadeira quando $\\Delta x$ e $\\Delta t$ são próximos de 0\n",
    "Estabilidade: Quando não há amplificação do erro em qualquer estágio do cálculo\n",
    "## Coeficiente de Estabilidade\n",
    "$\\lambda = \\frac{\\alpha \\Delta t}{\\Delta x^2}$\n",
    " * Condição p/ estabilidade no caso 1D: $\\lambda \\leq \\frac {1}{2}$\n",
    " * Condição p/ estabilidade no caso 2D: $\\lambda \\leq \\frac {1}{4}$\n",
    " \n",
    "___"
   ]
  },
  {
   "cell_type": "markdown",
   "id": "9cea6018",
   "metadata": {},
   "source": [
    "# Aula 09 - Métodos numéricos em condução de calor. Aplicações em domínios bidimensionais. <a name=\"9\"></a>"
   ]
  },
  {
   "cell_type": "markdown",
   "id": "bb068abc",
   "metadata": {},
   "source": [
    "## Exercício 2"
   ]
  },
  {
   "cell_type": "markdown",
   "id": "917b38fd",
   "metadata": {},
   "source": [
    "Considere a placa quadrada $50cm x 50cm$ com as condições de contorno de temperatura indicadas na figura. Use o método das diferenças finitas e determine atemperatura em todos os pontos internos da placa após 10s. Considere $\\alpha = 0,25m^2/s$ e use uma malha com espaçamento $\\Delta x = \\Delta y = 0,1m$ e $\\Delta t = 10^{-2} s$. Assuma que as temperaturas indicadas na figura estão em $°C$ e que todos os nós internos na malha estão inicialmente a $0°C$."
   ]
  },
  {
   "cell_type": "markdown",
   "id": "51f8c905",
   "metadata": {},
   "source": [
    "<img src=\"ex2.png\">"
   ]
  },
  {
   "cell_type": "markdown",
   "id": "400f4d0b",
   "metadata": {},
   "source": [
    "Imports"
   ]
  },
  {
   "cell_type": "code",
   "execution_count": 3,
   "id": "f37bf7f8",
   "metadata": {},
   "outputs": [],
   "source": [
    "import numpy as np\n",
    "import matplotlib.pyplot as plt\n",
    "from mpl_toolkits.axes_grid1 import make_axes_locatable"
   ]
  },
  {
   "cell_type": "markdown",
   "id": "d2dcd88e",
   "metadata": {},
   "source": [
    "Dados do Problema"
   ]
  },
  {
   "cell_type": "code",
   "execution_count": null,
   "id": "f2e87aa5",
   "metadata": {},
   "outputs": [],
   "source": [
    "# Difusividade [m²/s]\n",
    "alpha = 0.25 \n",
    "# Discretização da malha em x e y [m]\n",
    "dx = .1 \n",
    "dy = .1 \n",
    "# Discretização no tempo [s]\n",
    "dt = .01\n",
    "# Dimensões da chapa [m]\n",
    "Lx = 0.5\n",
    "Ly = 0.5\n",
    "# Número de passos no tempo []\n",
    "nt = 1000\n",
    "# Tempo total [s]\n",
    "tt = dt*nt\n",
    "# Número de nós []\n",
    "nx = int(Lx/dx)+1\n",
    "ny = int(Ly/dy)+1\n",
    "\n",
    "# Tolerância []\n",
    "tol = 1e-8"
   ]
  },
  {
   "cell_type": "markdown",
   "id": "c311cb6b",
   "metadata": {},
   "source": [
    "Dados Calculados"
   ]
  },
  {
   "cell_type": "code",
   "execution_count": null,
   "id": "55c1f938",
   "metadata": {},
   "outputs": [],
   "source": [
    "# Tempo total [s]\n",
    "tt = dt*nt\n",
    "# Número de nós []\n",
    "nx = int(Lx/dx)+1\n",
    "ny = int(Ly/dy)+1"
   ]
  },
  {
   "cell_type": "markdown",
   "id": "a515267e",
   "metadata": {},
   "source": [
    "Resolução do Problema"
   ]
  },
  {
   "cell_type": "code",
   "execution_count": null,
   "id": "442fd559",
   "metadata": {},
   "outputs": [],
   "source": [
    "#Matriz para armazenar todas as temperaturas\n",
    "T = np.zeros(shape=(ny,nx,nt))"
   ]
  },
  {
   "cell_type": "code",
   "execution_count": null,
   "id": "4799bb02",
   "metadata": {},
   "outputs": [],
   "source": [
    "# Condições de Contorno\n",
    "T[ny-1,:,:] = 0\n",
    "T[0,:,:] = 100\n",
    "T[:,0,:] = 0\n",
    "T[:,nx-1,:] = 0"
   ]
  },
  {
   "cell_type": "code",
   "execution_count": null,
   "id": "a33932ea",
   "metadata": {},
   "outputs": [],
   "source": [
    "for p in range(0,nt-1):\n",
    "    for n in range(1,nx-1):\n",
    "        for m in range(1,ny-1):\n",
    "    \n",
    "            T[m,n,p+1] = T[m, n,p] + (alpha * dt)/(dx**2) * (T[m+1, n, p] + T[m-1, n,p] + T[m,n+1,p] + T[m,n-1,p] - 4*T[m,n,p])\n",
    "               \n",
    "    erro = np.amax(abs((T[1:nx-1,1:ny-1,p+1]-T[1:nx-1,1:ny-1,p])/T[1:nx-1,1:ny-1,p+1]))\n",
    "    if tol>=erro:\n",
    "        \n",
    "        print(f'Convergiu! {(p + 1)*dt}s')    #A temperatura parou de mudar então ele para de calcular\n",
    "        break"
   ]
  },
  {
   "cell_type": "markdown",
   "id": "33ba157e",
   "metadata": {},
   "source": [
    "Print dos Resultados"
   ]
  },
  {
   "cell_type": "code",
   "execution_count": null,
   "id": "1431e787",
   "metadata": {},
   "outputs": [],
   "source": [
    "ax = plt.subplot(111)\n",
    "im = ax.imshow(T[:,:,p+1])\n",
    "divider = make_axes_locatable(ax)\n",
    "cax = divider.append_axes(\"right\", size=\"5%\", pad=0.05)\n",
    "plt.colorbar(im, cax=cax)\n",
    "print(T[:,:,p+1])\n",
    "plt.show()"
   ]
  },
  {
   "cell_type": "markdown",
   "id": "a606b2ff",
   "metadata": {},
   "source": [
    "___\n",
    "# Aula 10 - Distribuição de temperatura em uma placa aquecida com condições de isolamento na borda.\n",
    "\n",
    "## Exercício 1\n",
    "Determine a distribuição de temperatura em uma placa sujeita às condições de contorno indicadas na figura. Suponha que a placa quadrada de $0,4m x 0,4m$ seja feita de alumínio. Use uma malha com 3 pontos internos em cada aresta e espaçamento $\\Delta x = \\Delta y$. Assuma que todos os nósinternos estão inicialmente a $0°C$.\n",
    "\n",
    "<img src=\"ex1.png\">\n",
    "\n",
    "Dados:\n",
    " * Condutividade térmica - $\\kappa = 230 W/m.°C$\n",
    " * Calor específico - $c = 897 J/kg.°C$\n",
    " * Densidade - $270 kg/m^3$\n",
    " \n",
    "Determine a distribuição de temperatura na placa após $t = 10s$ com passo no tempo\n",
    "de $\\Delta t = 10^{-3}s$. Verifique o erro associado ao resultado de sua análise.\n"
   ]
  },
  {
   "cell_type": "code",
   "execution_count": 6,
   "id": "7219e10b",
   "metadata": {},
   "outputs": [
    {
     "name": "stderr",
     "output_type": "stream",
     "text": [
      "C:\\Users\\gabri\\AppData\\Local\\Temp\\ipykernel_1912\\2495739972.py:58: RuntimeWarning: invalid value encountered in true_divide\n",
      "  erro = np.amax(abs((T[1:nx-1,1:ny-1,p+1]-T[1:nx-1,1:ny-1,p])/T[1:nx-1,1:ny-1,p+1]))\n"
     ]
    },
    {
     "name": "stdout",
     "output_type": "stream",
     "text": [
      "[[1.50000000e+02 1.50000000e+02 1.50000000e+02 1.50000000e+02\n",
      "  1.50000000e+02]\n",
      " [1.29917201e+01 1.29968667e+01 1.31619851e+01 1.65717583e+01\n",
      "  5.00000000e+01]\n",
      " [5.97561999e-01 6.03415724e-01 7.94383390e-01 4.88170024e+00\n",
      "  5.00000000e+01]\n",
      " [1.88590147e-02 2.43816776e-02 2.06044463e-01 4.16021178e+00\n",
      "  5.00000000e+01]\n",
      " [0.00000000e+00 0.00000000e+00 0.00000000e+00 0.00000000e+00\n",
      "  5.00000000e+01]]\n"
     ]
    },
    {
     "data": {
      "image/png": "[encoded data removed]",
      "text/plain": [
       "<Figure size 432x288 with 2 Axes>"
      ]
     },
     "metadata": {
      "needs_background": "light"
     },
     "output_type": "display_data"
    }
   ],
   "source": [
    "# Discretização da malha em x e y [m]\n",
    "dx = .1\n",
    "dy = .1\n",
    "\n",
    "# Discretização no tempo [s]\n",
    "dt = 1e-3\n",
    "\n",
    "# Dimensões da chapa [m]\n",
    "Lx = 0.4\n",
    "Ly = 0.4\n",
    "\n",
    "# Número de passos no tempo []\n",
    "nt = 10000\n",
    "\n",
    "# Tempo total [s]\n",
    "tt = dt*nt\n",
    "\n",
    "# Número de nós []\n",
    "nx = int(Lx/dx)+1\n",
    "ny = int(Ly/dy)+1\n",
    "\n",
    "# Condutividade térmica [W/m.°C]\n",
    "k = 230\n",
    "\n",
    "#Calor específico [J/kg.°C]\n",
    "c = 897\n",
    "\n",
    "#Densidade [kg/m^3]\n",
    "d = 2700\n",
    "\n",
    "# Difusividade [m²/s]\n",
    "alpha = k / (c * d)\n",
    "\n",
    "fluxo = 0 # pois é isolado\n",
    "\n",
    "T = np.zeros(shape=(ny,nx,nt))\n",
    "\n",
    "T[ny-1,:,:] = 0\n",
    "T[:,0,:] = 0\n",
    "T[:,nx-1,:] = 50\n",
    "T[0,:,:] = 150\n",
    "\n",
    "tol = 1e-4\n",
    "\n",
    "# Main loop\n",
    "\n",
    "# Tempo\n",
    "for p in range(0,nt-1):\n",
    "    for n in range(0,nx-1):\n",
    "        for m in range(1,ny-1):\n",
    "\n",
    "            if n == 0:\n",
    "                T[m,n,p+1] = T[m, n,p] + ((alpha * dt)/(dx**2)) * ((2 * T[m, n+1, p]) - 2 * dx * fluxo + T[m+1,n,p] + T[m-1,n,p] - 4*T[m,n,p])\n",
    "\n",
    "            else:\n",
    "                T[m,n,p+1] = T[m, n,p] + ((alpha * dt)/(dx**2)) * (T[m+1, n, p] + T[m-1, n,p] + T[m,n+1,p] + T[m,n-1,p] - 4*T[m,n,p])\n",
    "               \n",
    "    erro = np.amax(abs((T[1:nx-1,1:ny-1,p+1]-T[1:nx-1,1:ny-1,p])/T[1:nx-1,1:ny-1,p+1]))\n",
    "    if tol>=erro:\n",
    "        \n",
    "        print(f'Convergiu! {(p + 1)*dt}s')    #A temperatura parou de mudar então ele para de calcular\n",
    "        break \n",
    "\n",
    "ax = plt.subplot(111)\n",
    "im = ax.imshow(T[:,:,p+1])\n",
    "divider = make_axes_locatable(ax)\n",
    "cax = divider.append_axes(\"right\", size=\"5%\", pad=0.05)\n",
    "plt.colorbar(im, cax=cax)\n",
    "print(T[:,:,p+1])\n",
    "plt.show()"
   ]
  }
 ],
 "metadata": {
  "kernelspec": {
   "display_name": "Python 3 (ipykernel)",
   "language": "python",
   "name": "python3"
  },
  "language_info": {
   "codemirror_mode": {
    "name": "ipython",
    "version": 3
   },
   "file_extension": ".py",
   "mimetype": "text/x-python",
   "name": "python",
   "nbconvert_exporter": "python",
   "pygments_lexer": "ipython3",
   "version": "3.10.2"
  }
 },
 "nbformat": 4,
 "nbformat_minor": 5
}
